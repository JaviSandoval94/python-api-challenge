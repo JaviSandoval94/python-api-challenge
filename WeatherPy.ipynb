{
 "cells": [
  {
   "cell_type": "markdown",
   "metadata": {},
   "source": [
    "# Setup"
   ]
  },
  {
   "cell_type": "code",
   "execution_count": 2,
   "metadata": {},
   "outputs": [],
   "source": [
    "# Dependencies and Setup\n",
    "import requests\n",
    "import json\n",
    "import time\n",
    "import numpy as np\n",
    "import pandas as pd\n",
    "import matplotlib.pyplot as plt\n",
    "from scipy.stats import linregress\n",
    "\n",
    "# Import API key\n",
    "from resources import apikey\n",
    "\n",
    "# Incorporated citipy to determine city based on latitude and longitude\n",
    "from citipy import citipy\n",
    "\n",
    "# Output File (csv)\n",
    "output_data_file = \"output_data/cities.csv\"\n",
    "\n",
    "# Range of latitudes and longitudes\n",
    "lat_range = (-90, 90)\n",
    "lng_range = (-180, 180)"
   ]
  },
  {
   "cell_type": "code",
   "execution_count": 3,
   "metadata": {},
   "outputs": [
    {
     "data": {
      "text/plain": [
       "632"
      ]
     },
     "execution_count": 3,
     "metadata": {},
     "output_type": "execute_result"
    }
   ],
   "source": [
    "# List for holding lat_lngs and cities\n",
    "lat_lngs = []\n",
    "cities = []\n",
    "\n",
    "# Create a set of random lat and lng combinations\n",
    "lats = np.random.uniform (low = -90.000, high = 90.000, size = 1500)\n",
    "lngs = np.random.uniform (low = -90.000, high = 90.000, size = 1500)\n",
    "lat_lngs = zip(lats, lngs)\n",
    "\n",
    "# Identify nearest city for each lat, lng combination\n",
    "for lat_lng in lat_lngs:\n",
    "    city = citipy.nearest_city(lat_lng[0], lat_lng[1]).city_name\n",
    "    \n",
    "    # If the city is unique, then add it to our cities list\n",
    "    if city not in cities:\n",
    "        cities.append(city)\n",
    "        \n",
    "## Print the city count to confirm sufficient count\n",
    "len(cities)"
   ]
  },
  {
   "cell_type": "markdown",
   "metadata": {},
   "source": [
    "# Data Retrieval"
   ]
  },
  {
   "cell_type": "code",
   "execution_count": 4,
   "metadata": {},
   "outputs": [
    {
     "name": "stdout",
     "output_type": "stream",
     "text": [
      "Beginning Data Retrieval \n",
      "-----------------------------\n",
      "Processing Record 0 | mar del plata\n",
      "Processing Record 1 | busselton\n",
      "Processing Record 2 | ushuaia\n",
      "Processing Record 3 | taltal\n",
      "Processing Record 4 | port alfred\n",
      "Processing Record 5 | port elizabeth\n",
      "Processing Record 6 | andevoranto\n",
      "City not found! Skipping...\n",
      "Processing Record 7 | hopkinsville\n",
      "Processing Record 8 | nalut\n",
      "Processing Record 9 | qaanaaq\n",
      "Processing Record 10 | georgetown\n",
      "Processing Record 11 | punta arenas\n",
      "Processing Record 12 | taolanaro\n",
      "City not found! Skipping...\n",
      "Processing Record 13 | bredasdorp\n",
      "Processing Record 14 | san-pedro\n",
      "Processing Record 15 | umzimvubu\n",
      "City not found! Skipping...\n",
      "Processing Record 16 | dubti\n",
      "Processing Record 17 | hermanus\n",
      "Processing Record 18 | tessalit\n",
      "Processing Record 19 | clyde river\n",
      "Processing Record 20 | olonets\n",
      "Processing Record 21 | bambous virieux\n",
      "Processing Record 22 | la baule-escoublac\n",
      "Processing Record 23 | la asuncion\n",
      "Processing Record 24 | talnakh\n",
      "Processing Record 25 | saint-francois\n",
      "Processing Record 26 | vestmannaeyjar\n",
      "Processing Record 27 | attawapiskat\n",
      "City not found! Skipping...\n",
      "Processing Record 28 | grand river south east\n",
      "City not found! Skipping...\n",
      "Processing Record 29 | kondopoga\n",
      "Processing Record 30 | dondo\n",
      "Processing Record 31 | colchester\n",
      "Processing Record 32 | ancud\n",
      "Processing Record 33 | mandali\n",
      "Processing Record 34 | ribeira grande\n",
      "Processing Record 35 | ilulissat\n",
      "Processing Record 36 | bassar\n",
      "Processing Record 37 | bafq\n",
      "Processing Record 38 | mumford\n",
      "Processing Record 39 | los llanos de aridane\n",
      "Processing Record 40 | tasiilaq\n",
      "Processing Record 41 | upernavik\n",
      "Processing Record 42 | salalah\n",
      "Processing Record 43 | ambilobe\n",
      "Processing Record 44 | mananjary\n",
      "Processing Record 45 | bluefield\n",
      "Processing Record 46 | cidreira\n",
      "Processing Record 47 | ponta do sol\n",
      "Processing Record 48 | cardoso\n",
      "Processing Record 49 | den helder\n",
      "Processing Record 50 | nuuk\n",
      "Processing Record 51 | klaksvik\n",
      "Processing Record 52 | cayenne\n",
      "Processing Record 53 | vardo\n",
      "Processing Record 54 | amapa\n",
      "Processing Record 55 | tingo maria\n",
      "Processing Record 56 | jamestown\n",
      "Processing Record 57 | saint-philippe\n",
      "Processing Record 58 | lagoa\n",
      "Processing Record 59 | kazalinsk\n",
      "City not found! Skipping...\n",
      "Processing Record 60 | tsabong\n",
      "Processing Record 61 | la palma\n",
      "Processing Record 62 | kunya\n",
      "Processing Record 63 | atocha\n",
      "Processing Record 64 | rondonopolis\n",
      "Processing Record 65 | dumka\n",
      "Processing Record 66 | sarkand\n",
      "Processing Record 67 | grindavik\n",
      "Processing Record 68 | iranshahr\n",
      "Processing Record 69 | colares\n",
      "Processing Record 70 | teguldet\n",
      "Processing Record 71 | castro\n",
      "Processing Record 72 | chuy\n",
      "Processing Record 73 | sechura\n",
      "Processing Record 74 | bargal\n",
      "City not found! Skipping...\n",
      "Processing Record 75 | sisimiut\n",
      "Processing Record 76 | hithadhoo\n",
      "Processing Record 77 | sorland\n",
      "Processing Record 78 | porto nacional\n",
      "Processing Record 79 | mandera\n",
      "Processing Record 80 | dalvik\n",
      "Processing Record 81 | vila franca do campo\n",
      "Processing Record 82 | lephepe\n",
      "City not found! Skipping...\n",
      "Processing Record 83 | eregli\n",
      "Processing Record 84 | troitsko-pechorsk\n",
      "Processing Record 85 | belushya guba\n",
      "City not found! Skipping...\n",
      "Processing Record 86 | amderma\n",
      "City not found! Skipping...\n",
      "Processing Record 87 | illoqqortoormiut\n",
      "City not found! Skipping...\n",
      "Processing Record 88 | savannah bight\n",
      "Processing Record 89 | requena\n",
      "Processing Record 90 | fomboni\n",
      "Processing Record 91 | otukpo\n",
      "Processing Record 92 | sedelnikovo\n",
      "City not found! Skipping...\n",
      "Processing Record 93 | urumqi\n",
      "Processing Record 94 | husavik\n",
      "Processing Record 95 | ewo\n",
      "Processing Record 96 | longyearbyen\n",
      "Processing Record 97 | madimba\n",
      "Processing Record 98 | arraial do cabo\n",
      "Processing Record 99 | cape town\n",
      "Processing Record 100 | nevers\n",
      "Processing Record 101 | manono\n",
      "Processing Record 102 | marawi\n",
      "Processing Record 103 | chalmette\n",
      "Processing Record 104 | daniel flores\n",
      "Processing Record 105 | berlevag\n",
      "Processing Record 106 | keti bandar\n",
      "Processing Record 107 | contagem\n",
      "Processing Record 108 | makurdi\n",
      "Processing Record 109 | boysun\n",
      "Processing Record 110 | gemena\n",
      "Processing Record 111 | diamantino\n",
      "Processing Record 112 | nortelandia\n",
      "Processing Record 113 | pasni\n",
      "Processing Record 114 | pachino\n",
      "Processing Record 115 | umm kaddadah\n",
      "Processing Record 116 | clearwater\n",
      "Processing Record 117 | paita\n",
      "Processing Record 118 | huarmey\n",
      "Processing Record 119 | heinola\n",
      "Processing Record 120 | reconquista\n",
      "Processing Record 121 | theunissen\n",
      "Processing Record 122 | binga\n",
      "Processing Record 123 | severodvinsk\n",
      "Processing Record 124 | gurkovo\n",
      "Processing Record 125 | alwar\n",
      "Processing Record 126 | vestmanna\n",
      "Processing Record 127 | najran\n",
      "Processing Record 128 | ponta delgada\n",
      "Processing Record 129 | tekeli\n",
      "Processing Record 130 | barentsburg\n",
      "City not found! Skipping...\n",
      "Processing Record 131 | port-gentil\n",
      "Processing Record 132 | oranjemund\n",
      "Processing Record 133 | itarema\n",
      "Processing Record 134 | kattivakkam\n",
      "Processing Record 135 | bhainsa\n",
      "Processing Record 136 | mbandaka\n",
      "Processing Record 137 | iqaluit\n",
      "Processing Record 138 | templin\n",
      "Processing Record 139 | gaoual\n",
      "Processing Record 140 | gumdag\n",
      "Processing Record 141 | salamiyah\n",
      "Processing Record 142 | shahreza\n",
      "Processing Record 143 | sao joao da barra\n",
      "Processing Record 144 | mahebourg\n",
      "Processing Record 145 | torbay\n",
      "Processing Record 146 | romitan\n",
      "Processing Record 147 | chegutu\n",
      "Processing Record 148 | tatarsk\n",
      "Processing Record 149 | luba\n",
      "Processing Record 150 | nanortalik\n",
      "Processing Record 151 | rosetta\n",
      "Processing Record 152 | luxor\n",
      "Processing Record 153 | mubi\n",
      "Processing Record 154 | carutapera\n",
      "Processing Record 155 | kismayo\n",
      "Processing Record 156 | souillac\n",
      "Processing Record 157 | victoria\n",
      "Processing Record 158 | east london\n",
      "Processing Record 159 | inirida\n",
      "Processing Record 160 | quatre cocos\n",
      "Processing Record 161 | vero beach\n",
      "Processing Record 162 | ardrishaig\n",
      "Processing Record 163 | pampierstad\n",
      "Processing Record 164 | ipira\n",
      "Processing Record 165 | carauari\n",
      "Processing Record 166 | road town\n",
      "Processing Record 167 | maloarkhangelsk\n",
      "Processing Record 168 | bengkulu\n",
      "Processing Record 169 | lalibela\n",
      "Processing Record 170 | vangaindrano\n",
      "Processing Record 171 | porto torres\n",
      "Processing Record 172 | bandarbeyla\n",
      "Processing Record 173 | atyrau\n",
      "Processing Record 174 | dikson\n",
      "Processing Record 175 | ornskoldsvik\n",
      "Processing Record 176 | kenitra\n",
      "Processing Record 177 | mogadishu\n",
      "Processing Record 178 | coquimbo\n",
      "Processing Record 179 | oksfjord\n",
      "Processing Record 180 | bam\n",
      "Processing Record 181 | tsihombe\n",
      "City not found! Skipping...\n",
      "Processing Record 182 | bulawayo\n",
      "Processing Record 183 | the valley\n",
      "Processing Record 184 | barzas\n",
      "Processing Record 185 | qeshm\n",
      "Processing Record 186 | aripuana\n",
      "Processing Record 187 | kadoma\n",
      "Processing Record 188 | tabuk\n",
      "Processing Record 189 | marienburg\n",
      "Processing Record 190 | eganville\n",
      "Processing Record 191 | saint george\n",
      "Processing Record 192 | wawa\n",
      "Processing Record 193 | salta\n",
      "Processing Record 194 | marsa matruh\n",
      "Processing Record 195 | japura\n",
      "Processing Record 196 | iquique\n",
      "Processing Record 197 | sukhumi\n",
      "Processing Record 198 | saint-augustin\n",
      "Processing Record 199 | olafsvik\n",
      "Processing Record 200 | maragogi\n",
      "Processing Record 201 | bur gabo\n",
      "City not found! Skipping...\n",
      "Processing Record 202 | valdivia\n",
      "Processing Record 203 | codrington\n",
      "Processing Record 204 | tumannyy\n",
      "City not found! Skipping...\n",
      "Processing Record 205 | birnin kebbi\n",
      "Processing Record 206 | riberalta\n",
      "Processing Record 207 | bayshore gardens\n",
      "Processing Record 208 | kokstad\n",
      "Processing Record 209 | san francisco\n",
      "Processing Record 210 | mehran\n",
      "Processing Record 211 | brae\n",
      "Processing Record 212 | san cristobal\n",
      "Processing Record 213 | rovaniemi\n",
      "Processing Record 214 | sringeri\n",
      "Processing Record 215 | kyshtovka\n",
      "Processing Record 216 | west bay\n",
      "Processing Record 217 | cocoa beach\n",
      "Processing Record 218 | thinadhoo\n",
      "Processing Record 219 | hofn\n",
      "Processing Record 220 | pangoa\n",
      "Processing Record 221 | san nicolas\n",
      "Processing Record 222 | guasdualito\n",
      "Processing Record 223 | pisco\n",
      "Processing Record 224 | san felipe\n",
      "Processing Record 225 | calvinia\n",
      "Processing Record 226 | saint-pierre\n",
      "Processing Record 227 | jos\n",
      "Processing Record 228 | yenagoa\n",
      "Processing Record 229 | barabinsk\n",
      "Processing Record 230 | kathmandu\n",
      "Processing Record 231 | menongue\n"
     ]
    },
    {
     "name": "stdout",
     "output_type": "stream",
     "text": [
      "Processing Record 232 | rawson\n",
      "Processing Record 233 | rulenge\n",
      "Processing Record 234 | arlit\n",
      "Processing Record 235 | brewster\n",
      "Processing Record 236 | dujuma\n",
      "City not found! Skipping...\n",
      "Processing Record 237 | kuche\n",
      "City not found! Skipping...\n",
      "Processing Record 238 | matay\n",
      "Processing Record 239 | nebolchi\n",
      "Processing Record 240 | blagoyevo\n",
      "Processing Record 241 | nsoko\n",
      "Processing Record 242 | panapakkam\n",
      "City not found! Skipping...\n",
      "Processing Record 243 | rjukan\n",
      "Processing Record 244 | posse\n",
      "Processing Record 245 | amot\n",
      "Processing Record 246 | bud\n",
      "Processing Record 247 | dalbandin\n",
      "Processing Record 248 | henties bay\n",
      "Processing Record 249 | tarko-sale\n",
      "Processing Record 250 | saint anthony\n",
      "Processing Record 251 | ndago\n",
      "Processing Record 252 | faya\n",
      "Processing Record 253 | goderich\n",
      "Processing Record 254 | eirunepe\n",
      "Processing Record 255 | shushtar\n",
      "Processing Record 256 | thunder bay\n",
      "Processing Record 257 | kytlym\n",
      "City not found! Skipping...\n",
      "Processing Record 258 | kobojango\n",
      "City not found! Skipping...\n",
      "Processing Record 259 | balaka\n",
      "Processing Record 260 | bryansk\n",
      "Processing Record 261 | tanout\n",
      "Processing Record 262 | korla\n",
      "Processing Record 263 | iluppur\n",
      "Processing Record 264 | paramonga\n",
      "Processing Record 265 | cabinda\n",
      "Processing Record 266 | amberieu-en-bugey\n",
      "Processing Record 267 | borazjan\n",
      "Processing Record 268 | aguimes\n",
      "Processing Record 269 | atar\n",
      "Processing Record 270 | shubarkuduk\n",
      "Processing Record 271 | skagastrond\n",
      "City not found! Skipping...\n",
      "Processing Record 272 | namibe\n",
      "Processing Record 273 | neftcala\n",
      "Processing Record 274 | batticaloa\n",
      "Processing Record 275 | gat\n",
      "Processing Record 276 | dhidhdhoo\n",
      "Processing Record 277 | bereda\n",
      "Processing Record 278 | eyl\n",
      "Processing Record 279 | felidhoo\n",
      "City not found! Skipping...\n",
      "Processing Record 280 | marzuq\n",
      "Processing Record 281 | alta floresta\n",
      "Processing Record 282 | togur\n",
      "Processing Record 283 | farah\n",
      "Processing Record 284 | diffa\n",
      "Processing Record 285 | ilo\n",
      "Processing Record 286 | waddan\n",
      "Processing Record 287 | adrar\n",
      "Processing Record 288 | darnah\n",
      "Processing Record 289 | maldonado\n",
      "Processing Record 290 | taoudenni\n",
      "Processing Record 291 | nouadhibou\n",
      "Processing Record 292 | freetown\n",
      "Processing Record 293 | nkowakowa\n",
      "Processing Record 294 | dingle\n",
      "Processing Record 295 | malanje\n",
      "Processing Record 296 | port shepstone\n",
      "Processing Record 297 | kruisfontein\n",
      "Processing Record 298 | iquitos\n",
      "Processing Record 299 | rock sound\n",
      "Processing Record 300 | kuloy\n",
      "Processing Record 301 | dakar\n",
      "Processing Record 302 | naryan-mar\n",
      "Processing Record 303 | bolungarvik\n",
      "City not found! Skipping...\n",
      "Processing Record 304 | cap-aux-meules\n",
      "Processing Record 305 | mehamn\n",
      "Processing Record 306 | caravelas\n",
      "Processing Record 307 | pedasi\n",
      "Processing Record 308 | san ramon\n",
      "Processing Record 309 | presidencia roque saenz pena\n",
      "Processing Record 310 | praia da vitoria\n",
      "Processing Record 311 | niono\n",
      "Processing Record 312 | bathsheba\n",
      "Processing Record 313 | pangnirtung\n",
      "Processing Record 314 | aksarka\n",
      "Processing Record 315 | george\n",
      "Processing Record 316 | san carlos de bariloche\n",
      "Processing Record 317 | ngora\n",
      "Processing Record 318 | kashi\n",
      "Processing Record 319 | maralal\n",
      "Processing Record 320 | varhaug\n",
      "Processing Record 321 | belmonte\n",
      "Processing Record 322 | usinsk\n",
      "Processing Record 323 | oranjestad\n",
      "Processing Record 324 | normandin\n",
      "Processing Record 325 | koslan\n",
      "Processing Record 326 | nampula\n",
      "Processing Record 327 | pangody\n",
      "Processing Record 328 | obo\n",
      "Processing Record 329 | balkhash\n",
      "Processing Record 330 | mizpe ramon\n",
      "City not found! Skipping...\n",
      "Processing Record 331 | vohibinany\n",
      "Processing Record 332 | jumla\n",
      "Processing Record 333 | trairi\n",
      "Processing Record 334 | mana\n",
      "Processing Record 335 | geraldton\n",
      "Processing Record 336 | abong mbang\n",
      "Processing Record 337 | bela\n",
      "Processing Record 338 | chalala\n",
      "Processing Record 339 | laguna de perlas\n",
      "Processing Record 340 | timizart\n",
      "Processing Record 341 | kabardinka\n",
      "Processing Record 342 | axim\n",
      "Processing Record 343 | palaiokhora\n",
      "City not found! Skipping...\n",
      "Processing Record 344 | inhambane\n",
      "Processing Record 345 | chissamba\n",
      "Processing Record 346 | dehloran\n",
      "Processing Record 347 | hamilton\n",
      "Processing Record 348 | saldanha\n",
      "Processing Record 349 | shar\n",
      "Processing Record 350 | kolondieba\n",
      "Processing Record 351 | narsaq\n",
      "Processing Record 352 | karkaralinsk\n",
      "City not found! Skipping...\n",
      "Processing Record 353 | sibiti\n",
      "Processing Record 354 | uray\n",
      "Processing Record 355 | luderitz\n",
      "Processing Record 356 | santa cruz\n",
      "Processing Record 357 | muravlenko\n",
      "Processing Record 358 | verkhnechusovskiye gorodki\n",
      "Processing Record 359 | chemal\n",
      "Processing Record 360 | berbera\n",
      "Processing Record 361 | shu\n",
      "Processing Record 362 | kargasok\n",
      "Processing Record 363 | hermitage\n",
      "Processing Record 364 | rocha\n",
      "Processing Record 365 | karaul\n",
      "City not found! Skipping...\n",
      "Processing Record 366 | meulaboh\n",
      "Processing Record 367 | lilongwe\n",
      "Processing Record 368 | matara\n",
      "Processing Record 369 | uyemskiy\n",
      "Processing Record 370 | ormara\n",
      "Processing Record 371 | walvis bay\n",
      "Processing Record 372 | ariquemes\n",
      "Processing Record 373 | san lazaro\n",
      "Processing Record 374 | krasnoarmeysk\n",
      "Processing Record 375 | tabou\n",
      "Processing Record 376 | awbari\n",
      "Processing Record 377 | polunochnoye\n",
      "Processing Record 378 | kutum\n",
      "Processing Record 379 | inongo\n",
      "Processing Record 380 | yar-sale\n",
      "Processing Record 381 | benguela\n",
      "Processing Record 382 | richards bay\n",
      "Processing Record 383 | gornyak\n",
      "Processing Record 384 | chicama\n",
      "Processing Record 385 | tutoia\n",
      "Processing Record 386 | vokhma\n",
      "Processing Record 387 | weymouth\n",
      "Processing Record 388 | yelan\n",
      "Processing Record 389 | marcona\n",
      "City not found! Skipping...\n",
      "Processing Record 390 | cotonou\n",
      "Processing Record 391 | great yarmouth\n",
      "Processing Record 392 | moussoro\n",
      "Processing Record 393 | mullaitivu\n",
      "City not found! Skipping...\n",
      "Processing Record 394 | chirilagua\n",
      "Processing Record 395 | mitu\n",
      "Processing Record 396 | kang\n",
      "Processing Record 397 | saint-ambroise\n",
      "Processing Record 398 | annau\n",
      "Processing Record 399 | kuusamo\n",
      "Processing Record 400 | angoche\n",
      "Processing Record 401 | gravdal\n",
      "Processing Record 402 | kikwit\n",
      "Processing Record 403 | trelew\n",
      "Processing Record 404 | jalu\n",
      "Processing Record 405 | kyabe\n",
      "Processing Record 406 | paradwip\n",
      "City not found! Skipping...\n",
      "Processing Record 407 | bonavista\n",
      "Processing Record 408 | norwich\n",
      "Processing Record 409 | tuggurt\n",
      "City not found! Skipping...\n",
      "Processing Record 410 | kirkwall\n",
      "Processing Record 411 | sohagpur\n",
      "Processing Record 412 | sao filipe\n",
      "Processing Record 413 | riorges\n",
      "Processing Record 414 | puerto leguizamo\n",
      "Processing Record 415 | jaguaribe\n",
      "Processing Record 416 | pedernales\n",
      "Processing Record 417 | tombouctou\n",
      "Processing Record 418 | trinidad\n",
      "Processing Record 419 | abrau-dyurso\n",
      "Processing Record 420 | abu dhabi\n",
      "Processing Record 421 | kurchum\n",
      "Processing Record 422 | maceio\n",
      "Processing Record 423 | ntungamo\n",
      "Processing Record 424 | porto santo\n",
      "Processing Record 425 | puerto colombia\n",
      "Processing Record 426 | zaliztsi\n",
      "Processing Record 427 | cimislia\n",
      "Processing Record 428 | mweka\n",
      "Processing Record 429 | lima\n",
      "Processing Record 430 | hit\n",
      "Processing Record 431 | bobo dioulasso\n",
      "Processing Record 432 | partyzany\n",
      "Processing Record 433 | kongoussi\n",
      "Processing Record 434 | monrovia\n",
      "Processing Record 435 | dubrovka\n",
      "Processing Record 436 | karlshamn\n",
      "Processing Record 437 | mpigi\n",
      "Processing Record 438 | umm lajj\n",
      "Processing Record 439 | sharanga\n",
      "Processing Record 440 | sioux lookout\n",
      "Processing Record 441 | pozhva\n",
      "Processing Record 442 | plettenberg bay\n",
      "Processing Record 443 | muana\n",
      "Processing Record 444 | balotra\n",
      "Processing Record 445 | takoradi\n",
      "Processing Record 446 | upata\n",
      "Processing Record 447 | segou\n",
      "Processing Record 448 | esna\n",
      "Processing Record 449 | kuruman\n",
      "Processing Record 450 | mukhanovo\n",
      "City not found! Skipping...\n",
      "Processing Record 451 | touros\n",
      "Processing Record 452 | bubaque\n",
      "Processing Record 453 | bilsi\n",
      "Processing Record 454 | fraserburgh\n",
      "Processing Record 455 | cobija\n",
      "Processing Record 456 | mahibadhoo\n",
      "Processing Record 457 | elizabeth city\n",
      "Processing Record 458 | balsas\n",
      "Processing Record 459 | ostrowiec swietokrzyski\n",
      "Processing Record 460 | bandipur\n",
      "Processing Record 461 | shetpe\n",
      "Processing Record 462 | varkaus\n",
      "Processing Record 463 | rorvik\n",
      "Processing Record 464 | kizema\n",
      "Processing Record 465 | ludvika\n"
     ]
    },
    {
     "name": "stdout",
     "output_type": "stream",
     "text": [
      "Processing Record 466 | camocim\n",
      "Processing Record 467 | kamenka\n",
      "Processing Record 468 | vila velha\n",
      "Processing Record 469 | tabory\n",
      "Processing Record 470 | diapaga\n",
      "Processing Record 471 | calama\n",
      "Processing Record 472 | nchelenge\n",
      "Processing Record 473 | staicele\n",
      "Processing Record 474 | yurimaguas\n",
      "Processing Record 475 | lagunas\n",
      "Processing Record 476 | morant bay\n",
      "Processing Record 477 | bezerros\n",
      "Processing Record 478 | telemaco borba\n",
      "Processing Record 479 | haverfordwest\n",
      "Processing Record 480 | belinskiy\n",
      "Processing Record 481 | omboue\n",
      "Processing Record 482 | damietta\n",
      "Processing Record 483 | pitimbu\n",
      "Processing Record 484 | new smyrna beach\n",
      "Processing Record 485 | thompson\n",
      "Processing Record 486 | margate\n",
      "Processing Record 487 | serra talhada\n",
      "Processing Record 488 | dwarka\n",
      "Processing Record 489 | lebu\n",
      "Processing Record 490 | askino\n",
      "Processing Record 491 | benghazi\n",
      "Processing Record 492 | saint-joseph\n",
      "Processing Record 493 | rincon\n",
      "Processing Record 494 | havelock\n",
      "Processing Record 495 | panaba\n",
      "Processing Record 496 | humaita\n",
      "Processing Record 497 | ostrov\n",
      "Processing Record 498 | kuzino\n",
      "Processing Record 499 | reichenau\n",
      "Processing Record 500 | gadwal\n",
      "Processing Record 501 | goure\n",
      "Processing Record 502 | uva\n",
      "Processing Record 503 | rijeka\n",
      "Processing Record 504 | spring hill\n",
      "Processing Record 505 | bolshaya dzhalga\n",
      "Processing Record 506 | diu\n",
      "Processing Record 507 | praia\n",
      "Processing Record 508 | paraopeba\n",
      "Processing Record 509 | dombas\n",
      "Processing Record 510 | muli\n",
      "Processing Record 511 | mariental\n",
      "Processing Record 512 | lagos\n",
      "Processing Record 513 | mrirt\n",
      "City not found! Skipping...\n",
      "Processing Record 514 | kuito\n",
      "Processing Record 515 | nsanje\n",
      "Processing Record 516 | tiruvottiyur\n",
      "City not found! Skipping...\n",
      "Processing Record 517 | lake city\n",
      "Processing Record 518 | viedma\n",
      "Processing Record 519 | tres arroyos\n",
      "Processing Record 520 | carbondale\n",
      "Processing Record 521 | boende\n",
      "Processing Record 522 | sliema\n",
      "Processing Record 523 | vavoua\n",
      "Processing Record 524 | borba\n",
      "Processing Record 525 | baghdad\n",
      "Processing Record 526 | concord\n",
      "Processing Record 527 | camacha\n",
      "Processing Record 528 | carbonia\n",
      "Processing Record 529 | kalabo\n",
      "Processing Record 530 | maghama\n",
      "City not found! Skipping...\n",
      "Processing Record 531 | coro\n",
      "Processing Record 532 | minas\n",
      "Processing Record 533 | bafra\n",
      "Processing Record 534 | bojnice\n",
      "Processing Record 535 | ermoupolis\n",
      "Processing Record 536 | grand gaube\n",
      "Processing Record 537 | shelburne\n",
      "Processing Record 538 | wattegama\n",
      "Processing Record 539 | akdepe\n",
      "Processing Record 540 | ouango\n",
      "Processing Record 541 | lumeje\n",
      "Processing Record 542 | sept-iles\n",
      "Processing Record 543 | ust-tsilma\n",
      "Processing Record 544 | barwani\n",
      "Processing Record 545 | fougamou\n",
      "Processing Record 546 | narok\n",
      "Processing Record 547 | hambantota\n",
      "Processing Record 548 | guanica\n",
      "Processing Record 549 | cutler ridge\n",
      "Processing Record 550 | mahanoro\n",
      "Processing Record 551 | aras\n",
      "Processing Record 552 | opuwo\n",
      "Processing Record 553 | riyadh\n",
      "Processing Record 554 | abha\n",
      "Processing Record 555 | hendek\n",
      "Processing Record 556 | alto longa\n",
      "Processing Record 557 | tello\n",
      "Processing Record 558 | antofagasta\n",
      "Processing Record 559 | coihaique\n",
      "Processing Record 560 | ustka\n",
      "Processing Record 561 | safut\n",
      "Processing Record 562 | dabola\n",
      "Processing Record 563 | tawkar\n",
      "City not found! Skipping...\n",
      "Processing Record 564 | aasiaat\n",
      "Processing Record 565 | karaton\n",
      "Processing Record 566 | nguru\n",
      "Processing Record 567 | chapais\n",
      "Processing Record 568 | sinnamary\n",
      "Processing Record 569 | epping\n",
      "Processing Record 570 | sines\n",
      "Processing Record 571 | sokolo\n",
      "Processing Record 572 | kavaratti\n",
      "Processing Record 573 | voznesenye\n",
      "Processing Record 574 | abalak\n",
      "Processing Record 575 | gamba\n",
      "Processing Record 576 | krivodol\n",
      "Processing Record 577 | itaituba\n",
      "Processing Record 578 | caleta de carquin\n",
      "Processing Record 579 | sukkur\n",
      "Processing Record 580 | sinkat\n",
      "City not found! Skipping...\n",
      "Processing Record 581 | jibuti\n",
      "Processing Record 582 | beisfjord\n",
      "Processing Record 583 | koulikoro\n",
      "Processing Record 584 | ajdabiya\n",
      "Processing Record 585 | scottsburgh\n",
      "City not found! Skipping...\n",
      "Processing Record 586 | seydi\n",
      "Processing Record 587 | murrhardt\n",
      "Processing Record 588 | vallenar\n",
      "Processing Record 589 | kushmurun\n",
      "Processing Record 590 | cascais\n",
      "Processing Record 591 | baglung\n",
      "Processing Record 592 | coihueco\n",
      "Processing Record 593 | ruwi\n",
      "Processing Record 594 | kedrovyy\n",
      "Processing Record 595 | tamandare\n",
      "Processing Record 596 | cockburn town\n",
      "Processing Record 597 | azul\n",
      "Processing Record 598 | escanaba\n",
      "Processing Record 599 | hollins\n",
      "Processing Record 600 | dolbeau\n",
      "City not found! Skipping...\n",
      "Processing Record 601 | maniitsoq\n",
      "Processing Record 602 | umm durman\n",
      "City not found! Skipping...\n",
      "Processing Record 603 | chukhloma\n",
      "Processing Record 604 | pacasmayo\n",
      "Processing Record 605 | camana\n",
      "Processing Record 606 | laguna\n",
      "Processing Record 607 | saint-paul\n",
      "Processing Record 608 | khor\n",
      "Processing Record 609 | nara\n",
      "Processing Record 610 | nakasongola\n",
      "Processing Record 611 | ampanihy\n",
      "Processing Record 612 | warqla\n",
      "City not found! Skipping...\n",
      "Processing Record 613 | kitzingen\n",
      "Processing Record 614 | xuddur\n",
      "Processing Record 615 | krosno\n",
      "Processing Record 616 | sabha\n",
      "Processing Record 617 | arrifes\n",
      "Processing Record 618 | paamiut\n",
      "Processing Record 619 | carinhanha\n",
      "Processing Record 620 | irituia\n",
      "Processing Record 621 | biltine\n",
      "Processing Record 622 | portobelo\n",
      "Processing Record 623 | curaca\n",
      "Processing Record 624 | aktash\n",
      "Processing Record 625 | cabedelo\n",
      "Processing Record 626 | conakry\n",
      "Processing Record 627 | vibo valentia\n",
      "Processing Record 628 | aquin\n",
      "Processing Record 629 | ciras\n",
      "City not found! Skipping...\n",
      "Processing Record 630 | tatawin\n",
      "Processing Record 631 | gerash\n"
     ]
    }
   ],
   "source": [
    "city_list = []\n",
    "cloud_list = []\n",
    "country_list = []\n",
    "date_list = []\n",
    "humidity_list = []\n",
    "lat_list = []\n",
    "lng_list = []\n",
    "max_temp_list = []\n",
    "wind_speed_list = []\n",
    "\n",
    "url = \"http://api.openweathermap.org/data/2.5/weather?\"\n",
    "\n",
    "print(\"Beginning Data Retrieval \\n-----------------------------\")\n",
    "\n",
    "for city in cities:\n",
    "    \n",
    "    params = {\"appid\": apikey,\n",
    "             \"q\": city,\n",
    "             \"units\": \"imperial\"}\n",
    "    \n",
    "    request = requests.get(url, params = params)\n",
    "    data = request.json()\n",
    "    \n",
    "    try:\n",
    "        print(f\"Processing Record {cities.index(city)} | {city}\")\n",
    "                        \n",
    "        city_list.append(data[\"name\"])\n",
    "        cloud_list.append(data[\"clouds\"][\"all\"])\n",
    "        country_list.append(data[\"sys\"][\"country\"])\n",
    "        date_list.append(data[\"dt\"])\n",
    "        humidity_list.append(data[\"main\"][\"humidity\"])\n",
    "        lat_list.append(data[\"coord\"][\"lat\"])\n",
    "        lng_list.append(data[\"coord\"][\"lon\"])\n",
    "        max_temp_list.append(data[\"main\"][\"temp_max\"])\n",
    "        wind_speed_list.append(data[\"wind\"][\"speed\"])\n",
    "    \n",
    "    except:\n",
    "        print(\"City not found! Skipping...\")\n",
    "\n",
    "\n",
    "\n"
   ]
  },
  {
   "cell_type": "markdown",
   "metadata": {},
   "source": [
    "# DataFrame"
   ]
  },
  {
   "cell_type": "code",
   "execution_count": 21,
   "metadata": {},
   "outputs": [],
   "source": [
    "city_data_df = pd.DataFrame(\n",
    "        {\"City\": city_list,\n",
    "        \"Cloudiness\": cloud_list,\n",
    "        \"Contry\": country_list,\n",
    "        \"Date\": date_list,\n",
    "        \"Humidity\": humidity_list,\n",
    "        \"Lat\": lat_list,\n",
    "        \"Lng\": lng_list,\n",
    "        \"Max Temp\": max_temp_list,\n",
    "        \"Wind Speed\": wind_speed_list})\n",
    "\n",
    "city_data_df.head()\n",
    "\n",
    "city_data_df.to_csv(output_data_file, index = False)"
   ]
  },
  {
   "cell_type": "markdown",
   "metadata": {},
   "source": [
    "# Plotting data"
   ]
  },
  {
   "cell_type": "markdown",
   "metadata": {},
   "source": [
    "## Latitude vs. Temperature Plot"
   ]
  },
  {
   "cell_type": "code",
   "execution_count": 8,
   "metadata": {},
   "outputs": [
    {
     "data": {
      "image/png": "[encoded data removed]",
      "text/plain": [
       "<Figure size 432x288 with 1 Axes>"
      ]
     },
     "metadata": {
      "needs_background": "light"
     },
     "output_type": "display_data"
    }
   ],
   "source": [
    "plt.scatter(lat_list, max_temp_list)\n",
    "plt.show()"
   ]
  },
  {
   "cell_type": "markdown",
   "metadata": {},
   "source": [
    "## Latitude vs. Humidity Plot"
   ]
  },
  {
   "cell_type": "code",
   "execution_count": 9,
   "metadata": {},
   "outputs": [
    {
     "data": {
      "image/png": "[encoded data removed]",
      "text/plain": [
       "<Figure size 432x288 with 1 Axes>"
      ]
     },
     "metadata": {
      "needs_background": "light"
     },
     "output_type": "display_data"
    }
   ],
   "source": [
    "plt.scatter(lat_list, humidity_list)\n",
    "plt.show()"
   ]
  },
  {
   "cell_type": "markdown",
   "metadata": {},
   "source": [
    "## Latitude vs. Cloudiness Plot"
   ]
  },
  {
   "cell_type": "code",
   "execution_count": 10,
   "metadata": {},
   "outputs": [
    {
     "data": {
      "image/png": "[encoded data removed]",
      "text/plain": [
       "<Figure size 432x288 with 1 Axes>"
      ]
     },
     "metadata": {
      "needs_background": "light"
     },
     "output_type": "display_data"
    }
   ],
   "source": [
    "plt.scatter(lat_list, cloud_list)\n",
    "plt.show()"
   ]
  },
  {
   "cell_type": "markdown",
   "metadata": {},
   "source": [
    "## Latitude vs. Wind Speed Plot"
   ]
  },
  {
   "cell_type": "code",
   "execution_count": 11,
   "metadata": {},
   "outputs": [
    {
     "data": {
      "image/png": "[encoded data removed]",
      "text/plain": [
       "<Figure size 432x288 with 1 Axes>"
      ]
     },
     "metadata": {
      "needs_background": "light"
     },
     "output_type": "display_data"
    }
   ],
   "source": [
    "plt.scatter(lat_list, max_temp_list)\n",
    "plt.show()"
   ]
  },
  {
   "cell_type": "markdown",
   "metadata": {},
   "source": [
    "# Linear Regression"
   ]
  },
  {
   "cell_type": "code",
   "execution_count": 12,
   "metadata": {},
   "outputs": [
    {
     "data": {
      "text/html": [
       "<div>\n",
       "<style scoped>\n",
       "    .dataframe tbody tr th:only-of-type {\n",
       "        vertical-align: middle;\n",
       "    }\n",
       "\n",
       "    .dataframe tbody tr th {\n",
       "        vertical-align: top;\n",
       "    }\n",
       "\n",
       "    .dataframe thead th {\n",
       "        text-align: right;\n",
       "    }\n",
       "</style>\n",
       "<table border=\"1\" class=\"dataframe\">\n",
       "  <thead>\n",
       "    <tr style=\"text-align: right;\">\n",
       "      <th></th>\n",
       "      <th>City</th>\n",
       "      <th>Cloudiness</th>\n",
       "      <th>Contry</th>\n",
       "      <th>Date</th>\n",
       "      <th>Humidity</th>\n",
       "      <th>Lat</th>\n",
       "      <th>Lng</th>\n",
       "      <th>Max Temp</th>\n",
       "      <th>Wind Speed</th>\n",
       "    </tr>\n",
       "  </thead>\n",
       "  <tbody>\n",
       "    <tr>\n",
       "      <td>6</td>\n",
       "      <td>Hopkinsville</td>\n",
       "      <td>20</td>\n",
       "      <td>US</td>\n",
       "      <td>1585625657</td>\n",
       "      <td>62</td>\n",
       "      <td>36.87</td>\n",
       "      <td>-87.49</td>\n",
       "      <td>57.20</td>\n",
       "      <td>3.36</td>\n",
       "    </tr>\n",
       "    <tr>\n",
       "      <td>7</td>\n",
       "      <td>Nālūt</td>\n",
       "      <td>49</td>\n",
       "      <td>LY</td>\n",
       "      <td>1585625657</td>\n",
       "      <td>44</td>\n",
       "      <td>30.33</td>\n",
       "      <td>10.85</td>\n",
       "      <td>51.44</td>\n",
       "      <td>9.44</td>\n",
       "    </tr>\n",
       "    <tr>\n",
       "      <td>8</td>\n",
       "      <td>Qaanaaq</td>\n",
       "      <td>82</td>\n",
       "      <td>GL</td>\n",
       "      <td>1585625661</td>\n",
       "      <td>68</td>\n",
       "      <td>77.48</td>\n",
       "      <td>-69.36</td>\n",
       "      <td>-3.03</td>\n",
       "      <td>4.09</td>\n",
       "    </tr>\n",
       "    <tr>\n",
       "      <td>9</td>\n",
       "      <td>George Town</td>\n",
       "      <td>20</td>\n",
       "      <td>MY</td>\n",
       "      <td>1585625661</td>\n",
       "      <td>62</td>\n",
       "      <td>5.41</td>\n",
       "      <td>100.34</td>\n",
       "      <td>91.40</td>\n",
       "      <td>4.70</td>\n",
       "    </tr>\n",
       "    <tr>\n",
       "      <td>12</td>\n",
       "      <td>San-Pédro</td>\n",
       "      <td>49</td>\n",
       "      <td>CI</td>\n",
       "      <td>1585625662</td>\n",
       "      <td>89</td>\n",
       "      <td>4.75</td>\n",
       "      <td>-6.64</td>\n",
       "      <td>79.47</td>\n",
       "      <td>6.93</td>\n",
       "    </tr>\n",
       "  </tbody>\n",
       "</table>\n",
       "</div>"
      ],
      "text/plain": [
       "            City  Cloudiness Contry        Date  Humidity    Lat     Lng  \\\n",
       "6   Hopkinsville          20     US  1585625657        62  36.87  -87.49   \n",
       "7          Nālūt          49     LY  1585625657        44  30.33   10.85   \n",
       "8        Qaanaaq          82     GL  1585625661        68  77.48  -69.36   \n",
       "9    George Town          20     MY  1585625661        62   5.41  100.34   \n",
       "12     San-Pédro          49     CI  1585625662        89   4.75   -6.64   \n",
       "\n",
       "    Max Temp  Wind Speed  \n",
       "6      57.20        3.36  \n",
       "7      51.44        9.44  \n",
       "8      -3.03        4.09  \n",
       "9      91.40        4.70  \n",
       "12     79.47        6.93  "
      ]
     },
     "metadata": {},
     "output_type": "display_data"
    },
    {
     "data": {
      "text/html": [
       "<div>\n",
       "<style scoped>\n",
       "    .dataframe tbody tr th:only-of-type {\n",
       "        vertical-align: middle;\n",
       "    }\n",
       "\n",
       "    .dataframe tbody tr th {\n",
       "        vertical-align: top;\n",
       "    }\n",
       "\n",
       "    .dataframe thead th {\n",
       "        text-align: right;\n",
       "    }\n",
       "</style>\n",
       "<table border=\"1\" class=\"dataframe\">\n",
       "  <thead>\n",
       "    <tr style=\"text-align: right;\">\n",
       "      <th></th>\n",
       "      <th>City</th>\n",
       "      <th>Cloudiness</th>\n",
       "      <th>Contry</th>\n",
       "      <th>Date</th>\n",
       "      <th>Humidity</th>\n",
       "      <th>Lat</th>\n",
       "      <th>Lng</th>\n",
       "      <th>Max Temp</th>\n",
       "      <th>Wind Speed</th>\n",
       "    </tr>\n",
       "  </thead>\n",
       "  <tbody>\n",
       "    <tr>\n",
       "      <td>0</td>\n",
       "      <td>Mar del Plata</td>\n",
       "      <td>90</td>\n",
       "      <td>AR</td>\n",
       "      <td>1585625566</td>\n",
       "      <td>88</td>\n",
       "      <td>-38.00</td>\n",
       "      <td>-57.56</td>\n",
       "      <td>64.99</td>\n",
       "      <td>13.87</td>\n",
       "    </tr>\n",
       "    <tr>\n",
       "      <td>1</td>\n",
       "      <td>Busselton</td>\n",
       "      <td>97</td>\n",
       "      <td>AU</td>\n",
       "      <td>1585625656</td>\n",
       "      <td>36</td>\n",
       "      <td>-33.65</td>\n",
       "      <td>115.33</td>\n",
       "      <td>75.00</td>\n",
       "      <td>4.45</td>\n",
       "    </tr>\n",
       "    <tr>\n",
       "      <td>2</td>\n",
       "      <td>Ushuaia</td>\n",
       "      <td>40</td>\n",
       "      <td>AR</td>\n",
       "      <td>1585625445</td>\n",
       "      <td>61</td>\n",
       "      <td>-54.80</td>\n",
       "      <td>-68.30</td>\n",
       "      <td>50.00</td>\n",
       "      <td>19.46</td>\n",
       "    </tr>\n",
       "    <tr>\n",
       "      <td>3</td>\n",
       "      <td>Taltal</td>\n",
       "      <td>55</td>\n",
       "      <td>CL</td>\n",
       "      <td>1585625656</td>\n",
       "      <td>69</td>\n",
       "      <td>-25.40</td>\n",
       "      <td>-70.48</td>\n",
       "      <td>65.97</td>\n",
       "      <td>0.94</td>\n",
       "    </tr>\n",
       "    <tr>\n",
       "      <td>4</td>\n",
       "      <td>Port Alfred</td>\n",
       "      <td>69</td>\n",
       "      <td>ZA</td>\n",
       "      <td>1585625656</td>\n",
       "      <td>97</td>\n",
       "      <td>-33.59</td>\n",
       "      <td>26.89</td>\n",
       "      <td>66.00</td>\n",
       "      <td>4.00</td>\n",
       "    </tr>\n",
       "  </tbody>\n",
       "</table>\n",
       "</div>"
      ],
      "text/plain": [
       "            City  Cloudiness Contry        Date  Humidity    Lat     Lng  \\\n",
       "0  Mar del Plata          90     AR  1585625566        88 -38.00  -57.56   \n",
       "1      Busselton          97     AU  1585625656        36 -33.65  115.33   \n",
       "2        Ushuaia          40     AR  1585625445        61 -54.80  -68.30   \n",
       "3         Taltal          55     CL  1585625656        69 -25.40  -70.48   \n",
       "4    Port Alfred          69     ZA  1585625656        97 -33.59   26.89   \n",
       "\n",
       "   Max Temp  Wind Speed  \n",
       "0     64.99       13.87  \n",
       "1     75.00        4.45  \n",
       "2     50.00       19.46  \n",
       "3     65.97        0.94  \n",
       "4     66.00        4.00  "
      ]
     },
     "metadata": {},
     "output_type": "display_data"
    }
   ],
   "source": [
    "north_hem_df = city_data_df.loc[city_data_df[\"Lat\"] > 0,:]\n",
    "south_hem_df = city_data_df.loc[city_data_df[\"Lat\"] < 0,:]\n",
    "\n",
    "display(north_hem_df.head())\n",
    "display(south_hem_df.head())\n",
    "\n",
    "def plot_linreg (x_axis, y_axis, scatter_color, line_color):\n",
    "    x_label = input(\"Enter x axis title (press Enter if unlabeled): \")\n",
    "    y_label = input(\"Enter y axis title (press Enter if unlabeled): \")\n",
    "    title = input(\"Enter plot title (press Enter if unlabeled): \")\n",
    "    \n",
    "    (slope, intercept, rvalue, pvalue, stderr) = linregress(x_axis, y_axis)\n",
    "    plt.scatter(x_axis, y_axis, c = scatter_color)\n",
    "    plt.xlabel(x_label)\n",
    "    plt.ylabel(y_label)\n",
    "    plt.title(title)\n",
    "    line_values = slope * x_axis + intercept\n",
    "    plt.plot(x_axis, line_values, color = line_color)\n",
    "    plt.text(max(x_axis) * 2/3, min(y_axis), f\"y = {round(slope,2)}x + {round(intercept,2)} \\nR-value = {round(rvalue,2)}\", color = line_color)\n",
    "    print(f\"r-squared value is: {rvalue**2}\")\n",
    "    #plt.text(s = f\"y = {round(slope,2)}x + {round(intercept,2)} \\nR-value = {round(rvalue,2)}\", color = line_color)\n",
    "    \n",
    "    return plt.show()"
   ]
  },
  {
   "cell_type": "markdown",
   "metadata": {},
   "source": [
    "## Northern Hemisphere - Max Temp vs. Latitude Linear Regression"
   ]
  },
  {
   "cell_type": "code",
   "execution_count": 13,
   "metadata": {},
   "outputs": [
    {
     "name": "stdout",
     "output_type": "stream",
     "text": [
      "Enter x axis title (press Enter if unlabeled): Latitude\n",
      "Enter y axis title (press Enter if unlabeled): Max Temp (°F)\n",
      "Enter plot title (press Enter if unlabeled): \n",
      "r-squared value is: 0.8363206297289771\n"
     ]
    },
    {
     "data": {
      "image/png": "[encoded data removed]",
      "text/plain": [
       "<Figure size 432x288 with 1 Axes>"
      ]
     },
     "metadata": {
      "needs_background": "light"
     },
     "output_type": "display_data"
    }
   ],
   "source": [
    "plot_linreg(north_hem_df[\"Lat\"], north_hem_df[\"Max Temp\"], \"red\", \"blue\")"
   ]
  },
  {
   "cell_type": "markdown",
   "metadata": {},
   "source": [
    "## Southern Hemisphere - Max Temp vs. Latitude Linear Regeression"
   ]
  },
  {
   "cell_type": "code",
   "execution_count": 14,
   "metadata": {},
   "outputs": [
    {
     "name": "stdout",
     "output_type": "stream",
     "text": [
      "Enter x axis title (press Enter if unlabeled): Latitude\n",
      "Enter y axis title (press Enter if unlabeled): Max Temp (°F)\n",
      "Enter plot title (press Enter if unlabeled): \n",
      "r-squared value is: 0.38926639761236276\n"
     ]
    },
    {
     "data": {
      "image/png": "[encoded data removed]",
      "text/plain": [
       "<Figure size 432x288 with 1 Axes>"
      ]
     },
     "metadata": {
      "needs_background": "light"
     },
     "output_type": "display_data"
    }
   ],
   "source": [
    "plot_linreg(south_hem_df[\"Lat\"], south_hem_df[\"Max Temp\"], \"red\", \"blue\")"
   ]
  },
  {
   "cell_type": "markdown",
   "metadata": {},
   "source": [
    "## Northern Hemisphere - Humidity (%) vs. Latitude Linear Regression"
   ]
  },
  {
   "cell_type": "code",
   "execution_count": 15,
   "metadata": {},
   "outputs": [
    {
     "name": "stdout",
     "output_type": "stream",
     "text": [
      "Enter x axis title (press Enter if unlabeled): Latitude\n",
      "Enter y axis title (press Enter if unlabeled): Humidity (%)\n",
      "Enter plot title (press Enter if unlabeled): \n",
      "r-squared value is: 0.13953077033999398\n"
     ]
    },
    {
     "data": {
      "image/png": "[encoded data removed]",
      "text/plain": [
       "<Figure size 432x288 with 1 Axes>"
      ]
     },
     "metadata": {
      "needs_background": "light"
     },
     "output_type": "display_data"
    }
   ],
   "source": [
    "plot_linreg(north_hem_df[\"Lat\"], north_hem_df[\"Humidity\"], \"red\", \"blue\")"
   ]
  },
  {
   "cell_type": "markdown",
   "metadata": {},
   "source": [
    "## Southern Hemisphere - Humidity (%) vs. Latitude Linear Regression"
   ]
  },
  {
   "cell_type": "code",
   "execution_count": 16,
   "metadata": {},
   "outputs": [
    {
     "name": "stdout",
     "output_type": "stream",
     "text": [
      "Enter x axis title (press Enter if unlabeled): Latitude\n",
      "Enter y axis title (press Enter if unlabeled): Humidity (%)\n",
      "Enter plot title (press Enter if unlabeled): \n",
      "r-squared value is: 0.03014116261752504\n"
     ]
    },
    {
     "data": {
      "image/png": "[encoded data removed]",
      "text/plain": [
       "<Figure size 432x288 with 1 Axes>"
      ]
     },
     "metadata": {
      "needs_background": "light"
     },
     "output_type": "display_data"
    }
   ],
   "source": [
    "plot_linreg(south_hem_df[\"Lat\"], south_hem_df[\"Humidity\"], \"red\", \"blue\")"
   ]
  },
  {
   "cell_type": "markdown",
   "metadata": {},
   "source": [
    "## Northern Hemisphere - Cloudiness (%) vs. Latitude Linear Regression"
   ]
  },
  {
   "cell_type": "code",
   "execution_count": 17,
   "metadata": {},
   "outputs": [
    {
     "name": "stdout",
     "output_type": "stream",
     "text": [
      "Enter x axis title (press Enter if unlabeled): Latitude\n",
      "Enter y axis title (press Enter if unlabeled): Cloudiness (%)\n",
      "Enter plot title (press Enter if unlabeled): \n",
      "r-squared value is: 0.03031328888043496\n"
     ]
    },
    {
     "data": {
      "image/png": "[encoded data removed]",
      "text/plain": [
       "<Figure size 432x288 with 1 Axes>"
      ]
     },
     "metadata": {
      "needs_background": "light"
     },
     "output_type": "display_data"
    }
   ],
   "source": [
    "plot_linreg(north_hem_df[\"Lat\"], north_hem_df[\"Cloudiness\"], \"red\", \"blue\")"
   ]
  },
  {
   "cell_type": "markdown",
   "metadata": {},
   "source": [
    "## Southern Hemisphere - Cloudiness (%) vs. Latitude Linear Regression"
   ]
  },
  {
   "cell_type": "code",
   "execution_count": 18,
   "metadata": {},
   "outputs": [
    {
     "name": "stdout",
     "output_type": "stream",
     "text": [
      "Enter x axis title (press Enter if unlabeled): Latitude\n",
      "Enter y axis title (press Enter if unlabeled): Cloudiness (%)\n",
      "Enter plot title (press Enter if unlabeled): \n",
      "r-squared value is: 0.11876999234728955\n"
     ]
    },
    {
     "data": {
      "image/png": "[encoded data removed]",
      "text/plain": [
       "<Figure size 432x288 with 1 Axes>"
      ]
     },
     "metadata": {
      "needs_background": "light"
     },
     "output_type": "display_data"
    }
   ],
   "source": [
    "plot_linreg(south_hem_df[\"Lat\"], south_hem_df[\"Cloudiness\"], \"red\", \"blue\")"
   ]
  },
  {
   "cell_type": "markdown",
   "metadata": {},
   "source": [
    "## Northern Hemisphere - Wind Speed (mph) vs. Latitude Linear Regression"
   ]
  },
  {
   "cell_type": "code",
   "execution_count": 19,
   "metadata": {},
   "outputs": [
    {
     "name": "stdout",
     "output_type": "stream",
     "text": [
      "Enter x axis title (press Enter if unlabeled): Latitude\n",
      "Enter y axis title (press Enter if unlabeled): Wind Speed (mph)\n",
      "Enter plot title (press Enter if unlabeled): \n",
      "r-squared value is: 0.10559111106012896\n"
     ]
    },
    {
     "data": {
      "image/png": "[encoded data removed]",
      "text/plain": [
       "<Figure size 432x288 with 1 Axes>"
      ]
     },
     "metadata": {
      "needs_background": "light"
     },
     "output_type": "display_data"
    }
   ],
   "source": [
    "plot_linreg(north_hem_df[\"Lat\"], north_hem_df[\"Wind Speed\"], \"red\", \"blue\")"
   ]
  },
  {
   "cell_type": "markdown",
   "metadata": {},
   "source": [
    "## Southern Hemisphere - Wind Speed (mph) vs. Latitude Linear Regression"
   ]
  },
  {
   "cell_type": "code",
   "execution_count": 20,
   "metadata": {},
   "outputs": [
    {
     "name": "stdout",
     "output_type": "stream",
     "text": [
      "Enter x axis title (press Enter if unlabeled): Latitude\n",
      "Enter y axis title (press Enter if unlabeled): Wind Speed (mph)\n",
      "Enter plot title (press Enter if unlabeled): \n",
      "r-squared value is: 0.23507343091070143\n"
     ]
    },
    {
     "data": {
      "image/png": "[encoded data removed]",
      "text/plain": [
       "<Figure size 432x288 with 1 Axes>"
      ]
     },
     "metadata": {
      "needs_background": "light"
     },
     "output_type": "display_data"
    }
   ],
   "source": [
    "plot_linreg(south_hem_df[\"Lat\"], south_hem_df[\"Wind Speed\"], \"red\", \"blue\")"
   ]
  }
 ],
 "metadata": {
  "kernelspec": {
   "display_name": "Python 3",
   "language": "python",
   "name": "python3"
  },
  "language_info": {
   "codemirror_mode": {
    "name": "ipython",
    "version": 3
   },
   "file_extension": ".py",
   "mimetype": "text/x-python",
   "name": "python",
   "nbconvert_exporter": "python",
   "pygments_lexer": "ipython3",
   "version": "3.7.4"
  }
 },
 "nbformat": 4,
 "nbformat_minor": 2
}
