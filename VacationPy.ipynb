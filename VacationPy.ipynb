{
 "cells": [
  {
   "cell_type": "code",
   "execution_count": 1,
   "metadata": {},
   "outputs": [],
   "source": [
    "#Import dependencies\n",
    "import matplotlib.pyplot as plt\n",
    "import pandas as pd\n",
    "import numpy as np\n",
    "import requests\n",
    "import gmaps\n",
    "import os\n",
    "import json\n",
    "\n",
    "from resources import gkey\n",
    "\n",
    "gmaps.configure(api_key = gkey)"
   ]
  },
  {
   "cell_type": "code",
   "execution_count": 2,
   "metadata": {},
   "outputs": [
    {
     "data": {
      "text/html": [
       "<div>\n",
       "<style scoped>\n",
       "    .dataframe tbody tr th:only-of-type {\n",
       "        vertical-align: middle;\n",
       "    }\n",
       "\n",
       "    .dataframe tbody tr th {\n",
       "        vertical-align: top;\n",
       "    }\n",
       "\n",
       "    .dataframe thead th {\n",
       "        text-align: right;\n",
       "    }\n",
       "</style>\n",
       "<table border=\"1\" class=\"dataframe\">\n",
       "  <thead>\n",
       "    <tr style=\"text-align: right;\">\n",
       "      <th></th>\n",
       "      <th>City</th>\n",
       "      <th>Cloudiness</th>\n",
       "      <th>Contry</th>\n",
       "      <th>Date</th>\n",
       "      <th>Humidity</th>\n",
       "      <th>Lat</th>\n",
       "      <th>Lng</th>\n",
       "      <th>Max Temp</th>\n",
       "      <th>Wind Speed</th>\n",
       "    </tr>\n",
       "  </thead>\n",
       "  <tbody>\n",
       "    <tr>\n",
       "      <td>0</td>\n",
       "      <td>Ushuaia</td>\n",
       "      <td>75</td>\n",
       "      <td>AR</td>\n",
       "      <td>1585709569</td>\n",
       "      <td>81</td>\n",
       "      <td>-54.80</td>\n",
       "      <td>-68.30</td>\n",
       "      <td>46.4</td>\n",
       "      <td>10.29</td>\n",
       "    </tr>\n",
       "    <tr>\n",
       "      <td>1</td>\n",
       "      <td>Hong Kong</td>\n",
       "      <td>40</td>\n",
       "      <td>HK</td>\n",
       "      <td>1585709939</td>\n",
       "      <td>88</td>\n",
       "      <td>22.29</td>\n",
       "      <td>114.16</td>\n",
       "      <td>70.0</td>\n",
       "      <td>12.75</td>\n",
       "    </tr>\n",
       "    <tr>\n",
       "      <td>2</td>\n",
       "      <td>Niamey</td>\n",
       "      <td>14</td>\n",
       "      <td>NE</td>\n",
       "      <td>1585709941</td>\n",
       "      <td>13</td>\n",
       "      <td>13.51</td>\n",
       "      <td>2.11</td>\n",
       "      <td>86.0</td>\n",
       "      <td>3.36</td>\n",
       "    </tr>\n",
       "    <tr>\n",
       "      <td>3</td>\n",
       "      <td>Hithadhoo</td>\n",
       "      <td>93</td>\n",
       "      <td>MV</td>\n",
       "      <td>1585709942</td>\n",
       "      <td>66</td>\n",
       "      <td>-0.60</td>\n",
       "      <td>73.08</td>\n",
       "      <td>83.3</td>\n",
       "      <td>9.15</td>\n",
       "    </tr>\n",
       "    <tr>\n",
       "      <td>4</td>\n",
       "      <td>Vardø</td>\n",
       "      <td>75</td>\n",
       "      <td>NO</td>\n",
       "      <td>1585709942</td>\n",
       "      <td>85</td>\n",
       "      <td>70.37</td>\n",
       "      <td>31.11</td>\n",
       "      <td>23.0</td>\n",
       "      <td>21.92</td>\n",
       "    </tr>\n",
       "  </tbody>\n",
       "</table>\n",
       "</div>"
      ],
      "text/plain": [
       "        City  Cloudiness Contry        Date  Humidity    Lat     Lng  \\\n",
       "0    Ushuaia          75     AR  1585709569        81 -54.80  -68.30   \n",
       "1  Hong Kong          40     HK  1585709939        88  22.29  114.16   \n",
       "2     Niamey          14     NE  1585709941        13  13.51    2.11   \n",
       "3  Hithadhoo          93     MV  1585709942        66  -0.60   73.08   \n",
       "4      Vardø          75     NO  1585709942        85  70.37   31.11   \n",
       "\n",
       "   Max Temp  Wind Speed  \n",
       "0      46.4       10.29  \n",
       "1      70.0       12.75  \n",
       "2      86.0        3.36  \n",
       "3      83.3        9.15  \n",
       "4      23.0       21.92  "
      ]
     },
     "execution_count": 2,
     "metadata": {},
     "output_type": "execute_result"
    }
   ],
   "source": [
    "#Extract and explore data from cities data of previous exercise.\n",
    "cities_data_df = pd.read_csv(\"output_data/cities.csv\")\n",
    "cities_data_df.head()"
   ]
  },
  {
   "cell_type": "code",
   "execution_count": 3,
   "metadata": {},
   "outputs": [
    {
     "data": {
      "application/vnd.jupyter.widget-view+json": {
       "model_id": "f600454baf924800afce503f72b492e3",
       "version_major": 2,
       "version_minor": 0
      },
      "text/plain": [
       "Figure(layout=FigureLayout(height='420px'))"
      ]
     },
     "metadata": {},
     "output_type": "display_data"
    }
   ],
   "source": [
    "#Show humidity heatmap from cities data.\n",
    "fig = gmaps.figure()\n",
    "locations = cities_data_df[[\"Lat\", \"Lng\"]]\n",
    "weights = cities_data_df[\"Humidity\"]\n",
    "fig.add_layer(gmaps.heatmap_layer(locations, weights = weights))\n",
    "fig"
   ]
  },
  {
   "cell_type": "code",
   "execution_count": 4,
   "metadata": {},
   "outputs": [],
   "source": [
    "# Define vacation candidates based on ideal weather conditions:\n",
    "\n",
    "# Max temperature between 70 and 80 °F. Ideal warmth.\n",
    "candidates_df = cities_data_df.loc[(cities_data_df[\"Max Temp\"] < 80) & (cities_data_df[\"Max Temp\"] > 70) ,:]\n",
    "\n",
    "# No cloudiness. We want sun!\n",
    "candidates_df = candidates_df.loc[(cities_data_df[\"Cloudiness\"] == 0), :]\n",
    "\n",
    "# Wind speed less than 10 mph. Not too windy!\n",
    "candidates_df = candidates_df.loc[(cities_data_df[\"Wind Speed\"] < 5), :]\n"
   ]
  },
  {
   "cell_type": "code",
   "execution_count": 5,
   "metadata": {},
   "outputs": [
    {
     "data": {
      "application/vnd.jupyter.widget-view+json": {
       "model_id": "f600454baf924800afce503f72b492e3",
       "version_major": 2,
       "version_minor": 0
      },
      "text/plain": [
       "Figure(layout=FigureLayout(height='420px'))"
      ]
     },
     "metadata": {},
     "output_type": "display_data"
    }
   ],
   "source": [
    "url = \"https://maps.googleapis.com/maps/api/place/nearbysearch/json\"\n",
    "locations = []\n",
    "hotel_names = []\n",
    "cities = []\n",
    "countries = []\n",
    "infoBoxes = []\n",
    "\n",
    "\n",
    "\n",
    "for index, row in candidates_df.iterrows():\n",
    "    \n",
    "    params = {\"location\": str(row[\"Lat\"]) + \",\" + str(row[\"Lng\"]),\n",
    "                \"radius\": 5000,\n",
    "                \"type\": \"hotel\",\n",
    "                \"key\": gkey}\n",
    "                \n",
    "    request = requests.get(url, params = params)\n",
    "    \n",
    "    response = request.json()\n",
    "        \n",
    "    try:\n",
    "        location = (response[\"results\"][0][\"geometry\"][\"location\"][\"lat\"],response[\"results\"][0][\"geometry\"][\"location\"][\"lng\"])\n",
    "        locations.append(location)\n",
    "        hotel_names.append(response[\"results\"][0][\"name\"])\n",
    "        cities.append(row[\"City\"])\n",
    "        countries.append(row[\"Contry\"])\n",
    "    \n",
    "        infoBoxes.append(\"Hotel name: \" + response[\"results\"][0][\"name\"] + \", City: \" + row[\"City\"] + \", Country: \" + row[\"Contry\"])\n",
    "\n",
    "    except:\n",
    "        print(\"No hotel found! Skipping...\")\n",
    "\n",
    "\n",
    "markers = gmaps.marker_layer(locations, info_box_content = infoBoxes)\n",
    "fig.add_layer(markers)\n",
    "display(fig)"
   ]
  }
 ],
 "metadata": {
  "kernelspec": {
   "display_name": "Python 3",
   "language": "python",
   "name": "python3"
  },
  "language_info": {
   "codemirror_mode": {
    "name": "ipython",
    "version": 3
   },
   "file_extension": ".py",
   "mimetype": "text/x-python",
   "name": "python",
   "nbconvert_exporter": "python",
   "pygments_lexer": "ipython3",
   "version": "3.7.4"
  }
 },
 "nbformat": 4,
 "nbformat_minor": 2
}
